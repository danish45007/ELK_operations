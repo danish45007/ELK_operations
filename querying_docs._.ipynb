{
 "cells": [
  {
   "cell_type": "markdown",
   "metadata": {},
   "source": [
    "### Query Match phrase of exact matching includes case sensititve"
   ]
  },
  {
   "cell_type": "code",
   "execution_count": null,
   "metadata": {},
   "outputs": [],
   "source": [
    "GET netflix_data/_search\n",
    "{\n",
    "  \"_source\": [\"title\", \"cast\", \"director\", \"duration\"]\n",
    "  , \"size\": 20\n",
    "  , \"query\": {\n",
    "    \"match_phrase\": {\n",
    "      \"title\": \"Good peOpLe\"\n",
    "    }\n",
    "  }\n",
    "}"
   ]
  },
  {
   "cell_type": "markdown",
   "metadata": {},
   "source": [
    "### Relavent query result based on the the given query"
   ]
  },
  {
   "cell_type": "code",
   "execution_count": null,
   "metadata": {},
   "outputs": [],
   "source": [
    "GET netflix_data/_search\n",
    "{\n",
    "  \"_source\": [\"title\", \"cast\", \"director\", \"duration\"]\n",
    "  , \"size\": 20\n",
    "  , \"query\": {\n",
    "    \"match\": {\n",
    "      \"title\": \"Good peOpLe\"\n",
    "    }\n",
    "  }\n",
    "}"
   ]
  },
  {
   "cell_type": "markdown",
   "metadata": {},
   "source": [
    "### Data aggregation queries"
   ]
  },
  {
   "cell_type": "code",
   "execution_count": null,
   "metadata": {},
   "outputs": [],
   "source": [
    "GET netflix_data/_search\n",
    "{\n",
    "  \"aggs\": {\n",
    "    \"cast_names\": {\n",
    "      \"terms\": {\n",
    "        \"field\": \"cast.keyword\",\n",
    "        \"size\": 10,\n",
    "        \"order\": {\n",
    "          \"_count\": \"desc\"\n",
    "        }\n",
    "      }\n",
    "    }\n",
    "  }\n",
    "}"
   ]
  },
  {
   "cell_type": "code",
   "execution_count": null,
   "metadata": {},
   "outputs": [],
   "source": [
    "GET netflix_data/_search\n",
    "{\n",
    "  \"size\": 10,\n",
    "  \"query\": {\n",
    "    \"bool\": {\n",
    "      \"must\": [\n",
    "        {\n",
    "          \"match\": {\n",
    "            \"title\": {\n",
    "              \"query\": \"North\"\n",
    "            }\n",
    "          }\n",
    "        }\n",
    "      ],\n",
    "      \"filter\": [\n",
    "        {}\n",
    "      ],\n",
    "      \"should\": [\n",
    "        {}\n",
    "      ],\n",
    "      \"must_not\": [\n",
    "        {}\n",
    "      ]\n",
    "    }\n",
    "  }\n",
    "}"
   ]
  }
 ],
 "metadata": {
  "kernelspec": {
   "display_name": "Python 3",
   "language": "python",
   "name": "python3"
  },
  "language_info": {
   "codemirror_mode": {
    "name": "ipython",
    "version": 3
   },
   "file_extension": ".py",
   "mimetype": "text/x-python",
   "name": "python",
   "nbconvert_exporter": "python",
   "pygments_lexer": "ipython3",
   "version": "3.6.9"
  }
 },
 "nbformat": 4,
 "nbformat_minor": 4
}
